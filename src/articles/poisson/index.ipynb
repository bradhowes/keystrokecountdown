{
 "cells": [
  {
   "cell_type": "markdown",
   "metadata": {
    "deletable": true,
    "editable": true
   },
   "source": [
    "# Introduction"
   ]
  },
  {
   "cell_type": "markdown",
   "metadata": {
    "deletable": true,
    "editable": true
   },
   "source": [
    "We wish to simulate a stochastic process where there are N users of our application that we contend will use our app within a 2 hour time period. To perform the simulation, we would like to have our users attempt to use the application at random times such that the distribution of the intervals between events accurately reflects what one might see in the real world."
   ]
  },
  {
   "cell_type": "code",
   "execution_count": 1,
   "metadata": {
    "collapsed": false,
    "deletable": true,
    "editable": true
   },
   "outputs": [
    {
     "data": {
      "text/plain": [
       "1.3888888888888888"
      ]
     },
     "execution_count": 1,
     "metadata": {},
     "output_type": "execute_result"
    }
   ],
   "source": [
    "N = 10000.0\n",
    "T = 2.0\n",
    "lmbda = N / T / 60 / 60\n",
    "lmbda"
   ]
  },
  {
   "cell_type": "markdown",
   "metadata": {
    "deletable": true,
    "editable": true,
    "variables": {
     "N": "10000.0",
     "N/T": "5000.0",
     "T": "2.0",
     "lmbda": "1.3888888888888888"
    }
   },
   "source": [
    "For the arrival rate, let's set $N = 10,000$ users, and our time interval $T = 2.0$ hours. From that, we can calculate an arrival rate of $\\lambda = N / T = 5,000$ per hour or $\\lambda = 1.388$ users / second.\n",
    "\n",
    "Now for the times. Starting at $T_0$ we have no arrivals, but as time passes the probability of an event increases, until it reaches a near-certainty. If we randomly chose a value $U$ between 0 and 1, then we can calculate a random time interval as\n",
    "\n",
    "$$\n",
    "I_n = \\frac{-ln U}{\\lambda}\n",
    "$$\n",
    "\n",
    "Let's validate this by generating a large sample of intervals and taking their average."
   ]
  },
  {
   "cell_type": "code",
   "execution_count": 20,
   "metadata": {
    "collapsed": false,
    "deletable": true,
    "editable": true
   },
   "outputs": [
    {
     "data": {
      "text/plain": [
       "0.71929111745536545"
      ]
     },
     "execution_count": 20,
     "metadata": {},
     "output_type": "execute_result"
    }
   ],
   "source": [
    "count = int(1E6)\n",
    "x = np.arange(count)\n",
    "y = -np.log(1.0 - np.random.random_sample(len(x))) / lmbda\n",
    "np.average(y)"
   ]
  },
  {
   "cell_type": "code",
   "execution_count": 21,
   "metadata": {
    "collapsed": false,
    "deletable": true,
    "editable": true
   },
   "outputs": [
    {
     "data": {
      "text/plain": [
       "array([ 0.1315719 ,  0.0975074 ,  0.23880816,  0.15444505,  0.22988277,\n",
       "        0.77673759,  0.79036711,  0.43808061,  1.29951833,  0.63123162])"
      ]
     },
     "execution_count": 21,
     "metadata": {},
     "output_type": "execute_result"
    }
   ],
   "source": [
    "y[:10]"
   ]
  },
  {
   "cell_type": "markdown",
   "metadata": {
    "deletable": true,
    "editable": true
   },
   "source": [
    "So with a rate of $\\lambda = 1.388$ new events would arrive on average $I = 0.72$ seconds apart (or $1 / \\lambda$).\n",
    "\n",
    "We can plot the distribution of these random times, where we should see an exponential distribution."
   ]
  },
  {
   "cell_type": "code",
   "execution_count": 4,
   "metadata": {
    "collapsed": false,
    "deletable": true,
    "editable": true
   },
   "outputs": [
    {
     "data": {
      "image/png": "[encoded data removed]",
      "text/plain": [
       "<matplotlib.figure.Figure at 0x105534128>"
      ]
     },
     "metadata": {},
     "output_type": "display_data"
    }
   ],
   "source": [
    "plt.hist(y, 10)\n",
    "plt.show()"
   ]
  },
  {
   "cell_type": "markdown",
   "metadata": {
    "deletable": true,
    "editable": true
   },
   "source": [
    "# Random Generation\n",
    "\n",
    "Python contains the `random.expovariate` method which should give us similar intervals. Let's see by averaging a large sum of them."
   ]
  },
  {
   "cell_type": "code",
   "execution_count": 5,
   "metadata": {
    "collapsed": false,
    "deletable": true,
    "editable": true
   },
   "outputs": [
    {
     "data": {
      "text/plain": [
       "0.7214415342877576"
      ]
     },
     "execution_count": 5,
     "metadata": {},
     "output_type": "execute_result"
    }
   ],
   "source": [
    "from random import expovariate\n",
    "sum([expovariate(lmbda) for i in range(count)])/count"
   ]
  },
  {
   "cell_type": "markdown",
   "metadata": {
    "deletable": true,
    "editable": true
   },
   "source": [
    "For completeness, we can also use NumPy's `random.poisson` method if we pass in $1 / \\lambda$"
   ]
  },
  {
   "cell_type": "code",
   "execution_count": 19,
   "metadata": {
    "collapsed": false,
    "deletable": true,
    "editable": true
   },
   "outputs": [
    {
     "data": {
      "text/plain": [
       "array([  0.41607448,   1.1684804 ,   2.06405238,   2.79645109,\n",
       "         4.59933146,   7.2532691 ,   7.32377567,   7.63112724,\n",
       "         7.87685487,  10.05735753])"
      ]
     },
     "execution_count": 19,
     "metadata": {},
     "output_type": "execute_result"
    }
   ],
   "source": [
    "y = np.random.exponential(1.0/lmbda, count)\n",
    "np.cumsum(y)[:10]"
   ]
  },
  {
   "cell_type": "code",
   "execution_count": 18,
   "metadata": {
    "collapsed": false,
    "deletable": true,
    "editable": true
   },
   "outputs": [
    {
     "data": {
      "text/plain": [
       "0.71912660620119473"
      ]
     },
     "execution_count": 18,
     "metadata": {},
     "output_type": "execute_result"
    }
   ],
   "source": [
    "np.average(y)"
   ]
  },
  {
   "cell_type": "markdown",
   "metadata": {
    "deletable": true,
    "editable": true
   },
   "source": [
    "Again, this is in agreement with our expected average interval. Note the numbers (and histogram plots) won't match exactly as we are dealing with random time intervals."
   ]
  },
  {
   "cell_type": "code",
   "execution_count": 13,
   "metadata": {
    "collapsed": false,
    "deletable": true,
    "editable": true
   },
   "outputs": [
    {
     "data": {
      "image/png": "[encoded data removed]",
      "text/plain": [
       "<matplotlib.figure.Figure at 0x105933160>"
      ]
     },
     "metadata": {},
     "output_type": "display_data"
    }
   ],
   "source": [
    "x = range(count)\n",
    "y = [expovariate(lmbda) for i in x]\n",
    "plt.hist(y, 10)\n",
    "plt.show()"
   ]
  },
  {
   "cell_type": "markdown",
   "metadata": {
    "deletable": true,
    "editable": true
   },
   "source": [
    "# Event Times\n",
    "\n",
    "For a timeline of events, we can simply generate a sequence of independent intervals, and then generate a runnng sum of them for absolute timestamps."
   ]
  },
  {
   "cell_type": "code",
   "execution_count": 8,
   "metadata": {
    "collapsed": false,
    "deletable": true,
    "editable": true
   },
   "outputs": [
    {
     "data": {
      "text/plain": [
       "[0.0,\n",
       " 1.3224654891101544,\n",
       " 1.6176771941526784,\n",
       " 7.4726505158688035,\n",
       " 9.118169958496466,\n",
       " 9.6621667226626,\n",
       " 9.785745129323853,\n",
       " 10.797284617682134,\n",
       " 11.492111174613239,\n",
       " 12.012244136855243]"
      ]
     },
     "execution_count": 8,
     "metadata": {},
     "output_type": "execute_result"
    }
   ],
   "source": [
    "intervals = [expovariate(lmbda) for i in range(1000)]\n",
    "timestamps = [0.0]\n",
    "timestamp = 0.0\n",
    "for t in intervals:\n",
    "    timestamp += t\n",
    "    timestamps.append(timestamp)\n",
    "timestamps[:10]"
   ]
  },
  {
   "cell_type": "code",
   "execution_count": 9,
   "metadata": {
    "collapsed": false,
    "deletable": true,
    "editable": true
   },
   "outputs": [
    {
     "data": {
      "text/plain": [
       "[1.3224654891101544,\n",
       " 0.29521170504252403,\n",
       " 5.854973321716125,\n",
       " 1.6455194426276627,\n",
       " 0.543996764166133,\n",
       " 0.12357840666125419,\n",
       " 1.011539488358281,\n",
       " 0.6948265569311047,\n",
       " 0.5201329622420037,\n",
       " 0.47842851855116564]"
      ]
     },
     "execution_count": 9,
     "metadata": {},
     "output_type": "execute_result"
    }
   ],
   "source": [
    "deltas = [y - x for x, y in zip(timestamps, timestamps[1:])]\n",
    "deltas[:10]"
   ]
  },
  {
   "cell_type": "code",
   "execution_count": 10,
   "metadata": {
    "collapsed": false,
    "deletable": true,
    "editable": true
   },
   "outputs": [
    {
     "data": {
      "text/plain": [
       "0.7480920248477916"
      ]
     },
     "execution_count": 10,
     "metadata": {},
     "output_type": "execute_result"
    }
   ],
   "source": [
    "sum(deltas) / len(deltas)"
   ]
  },
  {
   "cell_type": "code",
   "execution_count": 24,
   "metadata": {
    "collapsed": false,
    "deletable": true,
    "editable": true,
    "scrolled": true
   },
   "outputs": [
    {
     "data": {
      "image/png": "[encoded data removed]",
      "text/plain": [
       "<matplotlib.figure.Figure at 0x105bf1438>"
      ]
     },
     "metadata": {},
     "output_type": "display_data"
    }
   ],
   "source": [
    "deltas = [y - x for x, y in zip(timestamps, timestamps[1:])]\n",
    "plt.figure(figsize=(16, 4))\n",
    "plt.plot(deltas, 'r+')\n",
    "plt.show()"
   ]
  },
  {
   "cell_type": "markdown",
   "metadata": {
    "deletable": true,
    "editable": true
   },
   "source": [
    "Here we can readily see how the time between events is distributed, with most of the deltas below 1.0 with some fairly large outliers. This is to be expected as $T_n$ will always be greater than $T_{n-1}$ but perhaps not by much.\n",
    "\n",
    "Finally, let's generate $T = 2.0$ hours worth of timestamps and see if we have close to our desired $N$ value. We will do this 100 times and then average the counts. We should have a value that is very close to $N = 10,000$."
   ]
  },
  {
   "cell_type": "code",
   "execution_count": 14,
   "metadata": {
    "collapsed": false,
    "deletable": true,
    "editable": true
   },
   "outputs": [
    {
     "data": {
      "text/plain": [
       "10000.88"
      ]
     },
     "execution_count": 14,
     "metadata": {},
     "output_type": "execute_result"
    }
   ],
   "source": [
    "limit = T * 60 * 60\n",
    "counts = []\n",
    "for iter in range(100):\n",
    "    count = 0\n",
    "    timestamp = 0.0\n",
    "    while timestamp < limit:\n",
    "        timestamp += expovariate(lmbda)\n",
    "        count += 1\n",
    "    counts.append(count)\n",
    "sum(counts) / len(counts)"
   ]
  },
  {
   "cell_type": "code",
   "execution_count": null,
   "metadata": {
    "collapsed": true,
    "deletable": true,
    "editable": true
   },
   "outputs": [],
   "source": []
  }
 ],
 "metadata": {
  "kernelspec": {
   "display_name": "Python 3",
   "language": "python",
   "name": "python3"
  },
  "language_info": {
   "codemirror_mode": {
    "name": "ipython",
    "version": 3
   },
   "file_extension": ".py",
   "mimetype": "text/x-python",
   "name": "python",
   "nbconvert_exporter": "python",
   "pygments_lexer": "ipython3",
   "version": "3.6.1"
  },
  "blog": {
   "category": "",
   "date": "2017-06-08 14:57:55+01:00",
   "description": "Arrival Intervals of a Poisson Process.",
   "link": "",
   "tags": "Python, IPython, Poisson",
   "author": "Brad Howes",
   "title": "Arrival Intervals of a Poisson Process",
   "image": "poisson.png",
   "type": "text"
  }
 },
 "nbformat": 4,
 "nbformat_minor": 2
}
